{
 "cells": [
  {
   "cell_type": "code",
   "execution_count": 32,
   "metadata": {},
   "outputs": [],
   "source": [
    "menu = '''\n",
    "\n",
    "[d] Depositar\n",
    "[s] Sacar\n",
    "[e] Extrato\n",
    "[q] Sair\n",
    "\n",
    "=>'''\n",
    "\n",
    "saldo = 0\n",
    "limite = 500\n",
    "extrato = \"\"\n",
    "numero_saques = 0\n",
    "LIMITE_SAQUES = 3"
   ]
  },
  {
   "cell_type": "code",
   "execution_count": 33,
   "metadata": {},
   "outputs": [],
   "source": [
    "def verificar_decimal(numero):\n",
    "    decimal = numero.split('.')[1]\n",
    "    if len(decimal) > 2:\n",
    "        print('Valor inválido, por favor insira um valor com até duas casas decimais.')\n",
    "        return False\n",
    "    \n",
    "    else:\n",
    "        return True"
   ]
  },
  {
   "cell_type": "code",
   "execution_count": 34,
   "metadata": {},
   "outputs": [],
   "source": [
    "def deposito(saldo, extrato):\n",
    "\n",
    "    str_valor_deposito = input('Informe o valor do depósito ou digite \"c\" para cancelar: ')\n",
    "    if str_valor_deposito == \"c\":\n",
    "        return False, saldo, extrato\n",
    "    \n",
    "    valor_deposito = float(str_valor_deposito)\n",
    "    if valor_deposito <= 0:\n",
    "        print('Valor inválido, por favor informe um valor acima de zero.')\n",
    "        return True, saldo, extrato\n",
    "    else:\n",
    "        if '.' in str_valor_deposito:\n",
    "            if verificar_decimal(str_valor_deposito) == False:\n",
    "                return True, saldo, extrato\n",
    "        \n",
    "        saldo += valor_deposito\n",
    "        extrato = extrato + f\"\\nDepósito: + R$ {valor_deposito:.2f}\"\n",
    "        print('Depósito realizado com sucesso!')\n",
    "        return False, saldo, extrato"
   ]
  },
  {
   "cell_type": "code",
   "execution_count": 35,
   "metadata": {},
   "outputs": [],
   "source": [
    "def saque(saldo, limite, extrato, numero_saques, LIMITE_SAQUES):\n",
    "    if saldo <= 0:\n",
    "        print(\"Você não possui saldo em conta.\")\n",
    "        return False, saldo, extrato, numero_saques\n",
    "    elif numero_saques == LIMITE_SAQUES:\n",
    "        print(\"Você já atingiu o limite diário de saques\")\n",
    "        return False, saldo, extrato, numero_saques\n",
    "    \n",
    "    else:\n",
    "        str_valor_saque = input('Informe o valor do saque ou digite \"c\" para cancelar: ')\n",
    "        if str_valor_saque == \"c\":\n",
    "            return False, saldo, extrato, numero_saques\n",
    "        \n",
    "        valor_saque = float(str_valor_saque)\n",
    "\n",
    "\n",
    "        if '.' in str_valor_saque:\n",
    "            if verificar_decimal(str_valor_saque) == False:\n",
    "                return True, saldo, extrato, numero_saques\n",
    "            \n",
    "        if valor_saque > limite:\n",
    "            print(f'O valor informado de R$ {valor_saque:.2f} está acima do seu limite de R$ {limite:.2f} por saque. Por favor, informe um valor correto.')\n",
    "            return True, saldo, extrato, numero_saques\n",
    "        \n",
    "        if valor_saque > saldo:\n",
    "            print(f'Saldo insuficiente.')\n",
    "            return True, saldo, extrato, numero_saques\n",
    "        \n",
    "        else:\n",
    "            numero_saques += 1\n",
    "            saldo -= valor_saque\n",
    "            extrato = extrato + f\"\\nSaque: - R$ {valor_saque:.2f}\"    \n",
    "            print(\"Saque realizado com sucesso!\")\n",
    "            return False, saldo, extrato, numero_saques"
   ]
  },
  {
   "cell_type": "code",
   "execution_count": 36,
   "metadata": {},
   "outputs": [
    {
     "name": "stdout",
     "output_type": "stream",
     "text": [
      "\n",
      "==========Extrato==========\n",
      "Não foram realizadas movimentações\n",
      "\n",
      "Saldo: R$ 0.00\n",
      "============================\n",
      "Depósito realizado com sucesso!\n",
      "O valor informado de R$ 512.00 está acima do seu limite de R$ 500.00 por saque. Por favor, informe um valor correto.\n",
      "Saque realizado com sucesso!\n",
      "\n",
      "==========Extrato==========\n",
      "\n",
      "Depósito: + R$ 1000.00\n",
      "Saque: - R$ 112.00\n",
      "\n",
      "Saldo: R$ 888.00\n",
      "============================\n"
     ]
    }
   ],
   "source": [
    "while True:\n",
    "\n",
    "    opcao = input(menu)\n",
    "\n",
    "    if opcao == \"d\":\n",
    "        depositar = True\n",
    "        while depositar == True:\n",
    "            depositar, saldo, extrato = deposito(saldo, extrato)\n",
    "\n",
    "    elif opcao == \"s\":\n",
    "        sacar = True\n",
    "        while sacar == True:\n",
    "            sacar, saldo, extrato, numero_saques = saque(saldo, limite, extrato, numero_saques, LIMITE_SAQUES)\n",
    "    \n",
    "    elif opcao == \"e\":\n",
    "        print(\"\\n==========Extrato==========\")\n",
    "        print(\"Não foram realizadas movimentações\" if not extrato else extrato)\n",
    "        print(f\"\\nSaldo: R$ {saldo:.2f}\")\n",
    "        print(\"============================\")\n",
    "\n",
    "    elif opcao == \"q\":\n",
    "        break\n",
    "\n",
    "    else:\n",
    "        print(\"Operação inválida, por favor selecione novamente a opção desejada.\")"
   ]
  }
 ],
 "metadata": {
  "kernelspec": {
   "display_name": "Python 3",
   "language": "python",
   "name": "python3"
  },
  "language_info": {
   "codemirror_mode": {
    "name": "ipython",
    "version": 3
   },
   "file_extension": ".py",
   "mimetype": "text/x-python",
   "name": "python",
   "nbconvert_exporter": "python",
   "pygments_lexer": "ipython3",
   "version": "3.11.1"
  },
  "orig_nbformat": 4
 },
 "nbformat": 4,
 "nbformat_minor": 2
}
